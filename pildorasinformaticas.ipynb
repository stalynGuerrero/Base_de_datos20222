{
  "nbformat": 4,
  "nbformat_minor": 0,
  "metadata": {
    "colab": {
      "provenance": [],
      "authorship_tag": "ABX9TyNbeC04mIAMWNdFVeXm60Qe",
      "include_colab_link": true
    },
    "kernelspec": {
      "name": "python3",
      "display_name": "Python 3"
    },
    "language_info": {
      "name": "python"
    }
  },
  "cells": [
    {
      "cell_type": "markdown",
      "metadata": {
        "id": "view-in-github",
        "colab_type": "text"
      },
      "source": [
        "<a href=\"https://colab.research.google.com/github/stalynGuerrero/Base_de_datos20222/blob/main/pildorasinformaticas.ipynb\" target=\"_parent\"><img src=\"https://colab.research.google.com/assets/colab-badge.svg\" alt=\"Open In Colab\"/></a>"
      ]
    },
    {
      "cell_type": "code",
      "source": [
        "#EJERCICIO 1\n",
        "\n"
      ],
      "metadata": {
        "id": "gg8mweAI3DxN"
      },
      "execution_count": null,
      "outputs": []
    },
    {
      "cell_type": "code",
      "execution_count": null,
      "metadata": {
        "id": "6-pHqybAmMBD",
        "colab": {
          "base_uri": "https://localhost:8080/"
        },
        "outputId": "e2a2c18f-d6e8-444d-ef61-42e978c8657c"
      },
      "outputs": [
        {
          "output_type": "stream",
          "name": "stdout",
          "text": [
            "Daniel que trabaja como director tiene un salario 75000 dolares\n",
            "Beto que trabaja como subdirector tiene un salario 65000 dolares\n"
          ]
        }
      ],
      "source": [
        "\n",
        "\n",
        "\n",
        "\n",
        "#funcion filter y map\n",
        "\n",
        "# FUNCION filter., verifica que de una secuencia cumplan una condicion, devolviendo un itirador con los elementos que cumplan dicha condicion,\n",
        "class empleado:\n",
        "   def __init__(self, nombre, cargo, salario): # contructor con parametros\n",
        "      self.nombre=nombre\n",
        "      self.cargo=cargo\n",
        "      self.salario=salario\n",
        "   def __str__(self): #devuelve los datos para cada objeto\n",
        "    return\"{} que trabaja como {} tiene un salario {} dolares\".format(self.nombre, self.cargo, self.salario)\n",
        "\n",
        "listaEmpleados =[\n",
        "\n",
        "empleado(\"Daniel\", \"director\", 75000),\n",
        "empleado(\"Beto\", \"subdirector\",65000),\n",
        "empleado(\"Pablo\", \"marketin\", 50000),\n",
        "empleado(\"sara\",\"comercia\", 40000),\n",
        "]\n",
        "\n",
        "salarios_altos = filter(lambda empleado:empleado.salario>50000, listaEmpleados)\n",
        "for empleado_salario in salarios_altos:\n",
        "  print(empleado_salario)"
      ]
    },
    {
      "cell_type": "code",
      "source": [
        "#**FUNCION MAP**\n",
        "#Aplica una función a cada elemento de una lista iterable. (listas y tuplas ) devolviendo una lista con los resultados\n",
        "\n",
        "# FUNCION filter., verifica que de una secuencia cumplan una condicion, devolviendo un itirador con los elementos que cumplan dicha condicion,\n",
        "class empleado:\n",
        "   def __init__(self, nombre, cargo, salario): # contructor con parametros\n",
        "      self.nombre=nombre\n",
        "      self.cargo=cargo\n",
        "      self.salario=salario\n",
        "   def __str__(self): #devuelve los datos para cada objeto\n",
        "    return\"{} que trabaja como {} tiene un salario {} dolares\".format(self.nombre, self.cargo, self.salario)\n",
        "\n",
        "listaEmpleados =[\n",
        "\n",
        "empleado(\"Daniel\", \"director\", 75000),\n",
        "empleado(\"Beto\", \"subdirector\",65000),\n",
        "empleado(\"Pablo\", \"marketin\", 50000),\n",
        "empleado(\"sara\",\"comercia\", 40000),\n",
        "]\n",
        "\n",
        "# calculo de una comision con un map\n",
        "def calculo_comision(empleado):\n",
        "    if (empleado.salario<=50000):\n",
        "        empleado.salario=empleado.salario*1.03\n",
        "\n",
        "    return empleado\n",
        "\n",
        "listaempleadosComision =map(calculo_comision, listaEmpleados)\n",
        "\n",
        "for empleado in listaempleadosComision:\n",
        "  print(empleado)"
      ],
      "metadata": {
        "colab": {
          "base_uri": "https://localhost:8080/"
        },
        "id": "D4EbInDjmtah",
        "outputId": "98c1b163-970a-4b3b-fb4e-8e00b783a83f"
      },
      "execution_count": null,
      "outputs": [
        {
          "output_type": "stream",
          "name": "stdout",
          "text": [
            "Daniel que trabaja como director tiene un salario 75000 dolares\n",
            "Beto que trabaja como subdirector tiene un salario 65000 dolares\n",
            "Pablo que trabaja como marketin tiene un salario 51500.0 dolares\n",
            "sara que trabaja como comercia tiene un salario 41200.0 dolares\n"
          ]
        }
      ]
    },
    {
      "cell_type": "code",
      "source": [
        "#expresiones regulares\n",
        "\n",
        "import re\n",
        "cadena= \"vamos a aprender expreciones regulares\"\n",
        "\n",
        "textobuscado= \"aprender\"\n",
        "if re.search(textobuscado, cadena) is not None:\n",
        "    print(\"He encontrado el texto\")\n",
        "else:\n",
        "    print(\"no he encontrado el texto\")\n"
      ],
      "metadata": {
        "colab": {
          "base_uri": "https://localhost:8080/"
        },
        "id": "bmrpgvBl-SXF",
        "outputId": "a749b57a-477d-4ced-b167-3465b0e548e0"
      },
      "execution_count": null,
      "outputs": [
        {
          "output_type": "stream",
          "name": "stdout",
          "text": [
            "He encontrado el texto\n"
          ]
        }
      ]
    },
    {
      "cell_type": "code",
      "source": [
        "import re\n",
        "cadena= \"vamos a aprender expreciones regulares en Python, Python es un lenguaje\"\n",
        "\n",
        "textobuscado= \"aprender\"\n",
        "\n",
        "textoencontrado = re.search (textobuscado, cadena)\n",
        "\n",
        "print(textoencontrado.start())\n",
        "\n",
        "print(textoencontrado.end())\n",
        "\n",
        "print(textoencontrado.span())\n"
      ],
      "metadata": {
        "colab": {
          "base_uri": "https://localhost:8080/"
        },
        "id": "09opiaTlCcVE",
        "outputId": "b296296b-6548-48b6-8a2d-f45ad4932ffe"
      },
      "execution_count": null,
      "outputs": [
        {
          "output_type": "stream",
          "name": "stdout",
          "text": [
            "8\n",
            "16\n",
            "(8, 16)\n"
          ]
        }
      ]
    },
    {
      "cell_type": "code",
      "source": [
        "# REGEX Expresiones regulares: secuencia de caracteres que forman un patron de busqueda para el precesamiento de texto\n",
        "\n",
        "import re\n",
        "cadena= \"vamos a aprender expreciones regulares en Python, Python es un lenguaje\"\n",
        "\n",
        "textobuscado= \"Python\"\n",
        "\n",
        "\n",
        "textoencontrado = re.search (textobuscado, cadena)\n",
        "\n",
        "print(re.findall(textobuscado, cadena)) # encontra textobuscado\n",
        "\n",
        "print(len(re.findall(textobuscado, cadena)))#longitud de la lista que encontro findall\n",
        "\n",
        "print(textoencontrado.start())\n",
        "\n",
        "print(textoencontrado.end())\n",
        "\n",
        "print(textoencontrado.span())"
      ],
      "metadata": {
        "colab": {
          "base_uri": "https://localhost:8080/"
        },
        "id": "1BknrNbUD7hr",
        "outputId": "fbad5a22-fafd-4755-d744-1c9e96198623"
      },
      "execution_count": null,
      "outputs": [
        {
          "output_type": "stream",
          "name": "stdout",
          "text": [
            "['Python', 'Python']\n",
            "2\n",
            "42\n",
            "48\n",
            "(42, 48)\n"
          ]
        }
      ]
    },
    {
      "cell_type": "code",
      "source": [
        "# expresiones regulares 2, Anclas y clase de caracteres\n",
        "\n",
        "import re\n",
        "\n",
        "lista_nombre=[\"http//Dado\",\"Ana Gomez\",\n",
        "              \"Pedro Cardenas\",\n",
        "              \"jose Zmamora\",\n",
        "              \"marin Fiero\"]\n",
        "for elemento in lista_nombre:#recorrer elemento por elemento de esta lista buscando\n",
        "    if re.findall(\"^Ana\", elemento):# ^ busca en cada elementeo\n",
        "        print(elemento)\n",
        "\n",
        "\n",
        "\n"
      ],
      "metadata": {
        "colab": {
          "base_uri": "https://localhost:8080/"
        },
        "id": "wwTfTpEAAgSa",
        "outputId": "25cc4076-8fe3-4239-8608-3dbc30a0dbdf"
      },
      "execution_count": null,
      "outputs": [
        {
          "output_type": "stream",
          "name": "stdout",
          "text": [
            "Ana Gomez\n"
          ]
        }
      ]
    },
    {
      "cell_type": "code",
      "source": [
        "lista_paginas=[\"http//Dado.com\",\n",
        "               \"ftp//casasdecampo.com\",\n",
        "              \"http//fotoestilo.com\",\n",
        "              \"www.eventoselmanzano.co\",\n",
        "              \"www.elmanzano.com\",\n",
        "               \"WWW.muñequita.co\"]\n",
        "for dominio in lista_paginas:#recorrer elemento por elemento de esta lista buscando\n",
        "    if re.findall(\"com$\", dominio):# ^ busca en cada elementeo que termina en es\n",
        "        print(dominio)\n",
        "for dominio in lista_paginas:#recorrer elemento por elemento de esta lista buscando\n",
        "    if re.findall(\"[ñ]\", dominio):# ^ busca en cada elementeo que termina en es\n",
        "        print(dominio)"
      ],
      "metadata": {
        "colab": {
          "base_uri": "https://localhost:8080/"
        },
        "id": "DQeH1pvjImDl",
        "outputId": "719992ba-cc8c-4d93-b300-940232b5a55d"
      },
      "execution_count": null,
      "outputs": [
        {
          "output_type": "stream",
          "name": "stdout",
          "text": [
            "http//Dado.com\n",
            "ftp//casasdecampo.com\n",
            "http//fotoestilo.com\n",
            "www.elmanzano.com\n",
            "WWW.muñequita.co\n"
          ]
        }
      ]
    },
    {
      "cell_type": "code",
      "source": [
        "lista_paginas=[\"hombres\",\n",
        "               \"mujeres\",\n",
        "               \"niños\",\n",
        "               \"niñas\",\n",
        "               \"mascotas\"]\n",
        "for dominio in lista_paginas:#recorrer elemento por elemento de esta lista buscando\n",
        "    if re.findall(\"niñ[oa]s\", dominio):# ^ busca en cada elementeo niños y niñas\n",
        "        print(dominio)\n",
        "\n",
        "lista_paginas=[\"camion\",\n",
        "               \"camión\",\n",
        "               \"bus\",\n",
        "               \"carro\",\n",
        "               \"mato\"]\n",
        "for dominio in lista_paginas:#recorrer elemento por elemento de esta lista buscando\n",
        "    if re.findall(\"cami[oó]n\", dominio):# ^ busca en cada elementeo que termina que tine con tilde y si tilde\n",
        "        print(dominio)\n",
        "\n"
      ],
      "metadata": {
        "colab": {
          "base_uri": "https://localhost:8080/"
        },
        "id": "lE1YWbZkKXLE",
        "outputId": "944cb7a3-c090-4498-a2be-39414f9dfa93"
      },
      "execution_count": null,
      "outputs": [
        {
          "output_type": "stream",
          "name": "stdout",
          "text": [
            "niños\n",
            "niñas\n",
            "camion\n",
            "camión\n"
          ]
        }
      ]
    },
    {
      "cell_type": "code",
      "source": [
        "lista_paginas=[\"camion\",\n",
        "               \"camión\",\n",
        "               \"bus\",\n",
        "               \"carro\",\n",
        "               \"mato\"]\n",
        "for dominio in lista_paginas:#recorrer elemento por elemento de esta lista buscando\n",
        "    if re.findall(\"^[c-m]\", dominio):# ^ busca en cada elementos que inicien por lestras desde c a m\n",
        "        print (dominio)\n",
        "print(\"-----\")\n",
        "\n",
        "for dominio in lista_paginas:#recorrer elemento por elemento de esta lista buscando\n",
        "    if re.findall(\"[o-t]$\", dominio):# ^ busca en cada elementos que  TERMINEN  por lestras desde o hata t\n",
        "        print(dominio)\n",
        "print(\"-----\")\n",
        "\n",
        "for dominio in lista_paginas:#recorrer elemento por elemento de esta lista buscando\n",
        "    if re.findall(\"[o-t]\", dominio):# ^ busca en cada elementos que, en su interior contenga desde la letra o hasta la t\n",
        "        print(dominio)"
      ],
      "metadata": {
        "colab": {
          "base_uri": "https://localhost:8080/"
        },
        "id": "bNBnYMmfMoo0",
        "outputId": "da5b96d5-2d26-457d-cd55-e676f4e5a823"
      },
      "execution_count": null,
      "outputs": [
        {
          "output_type": "stream",
          "name": "stdout",
          "text": [
            "camion\n",
            "camión\n",
            "carro\n",
            "mato\n",
            "-----\n",
            "bus\n",
            "carro\n",
            "mato\n",
            "-----\n",
            "camion\n",
            "bus\n",
            "carro\n",
            "mato\n"
          ]
        }
      ]
    },
    {
      "cell_type": "code",
      "source": [
        "# RANGOS\n",
        "lista_elementos=[\"MA1\",\n",
        "               \"MA2\",\n",
        "               \"MA5\",\n",
        "               \"MA3\",\n",
        "               \"SE2\",\n",
        "               \"MAB\",\n",
        "               \"MAS\",\n",
        "               \"MA.2\",\n",
        "               \"MA:3\"]\n",
        "for e in lista_elementos:#recorrer elemento por elemento de esta lista buscando\n",
        "    if re.findall(\"MA[0-3A-B]\", e):#  busca en cada elementeo MA entre 0 y 3 y A y B\n",
        "        print(e)\n",
        "print(\".....\")\n",
        "\n",
        "for e in lista_elementos:#recorrer elemento por elemento de esta lista buscando\n",
        "    if re.findall(\"MA[.:]\", e):# busca en cada elementeo MA con el tercer elemento . o :\n",
        "        print(e)\n",
        "print(\".....\")"
      ],
      "metadata": {
        "colab": {
          "base_uri": "https://localhost:8080/"
        },
        "id": "KA6DgX6WS_h_",
        "outputId": "78c5b734-e8ca-4f67-b473-a9f3b1b57734"
      },
      "execution_count": null,
      "outputs": [
        {
          "output_type": "stream",
          "name": "stdout",
          "text": [
            "MA1\n",
            "MA2\n",
            "MA3\n",
            "MAB\n",
            ".....\n",
            "MA.2\n",
            "MA:3\n",
            ".....\n"
          ]
        }
      ]
    },
    {
      "cell_type": "code",
      "source": [
        "# MODULO RE, funcion Match y Search\n",
        "\n",
        "nombre1= \"Sandra Lopez\"\n",
        "nombre2= \"Antonio Gomez\"\n",
        "nombre3= \"Maria lopez\"\n",
        "\n",
        "if re.match(\"Sandra\", nombre1):\n",
        "    print(\"hemos encontrado el nombre\")\n",
        "else:\n",
        "    print(\"no hemos encontrado el nombre\")\n",
        "\n",
        "#para que match no sea sencible a mayuscula o minusculas"
      ],
      "metadata": {
        "id": "3TjLbs3UctEc"
      },
      "execution_count": null,
      "outputs": []
    }
  ]
}